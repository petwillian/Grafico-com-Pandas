{
  "nbformat": 4,
  "nbformat_minor": 0,
  "metadata": {
    "colab": {
      "provenance": []
    },
    "kernelspec": {
      "name": "python3",
      "display_name": "Python 3"
    },
    "language_info": {
      "name": "python"
    }
  },
  "cells": [
    {
      "cell_type": "code",
      "execution_count": null,
      "metadata": {
        "id": "uku1OiRz2zVf"
      },
      "outputs": [],
      "source": [
        "!pip install --upgrade pip setuptools wheel"
      ]
    },
    {
      "cell_type": "code",
      "source": [
        "!pip install pandas --prefer-binary"
      ],
      "metadata": {
        "id": "jVxepX5h5sYd"
      },
      "execution_count": null,
      "outputs": []
    },
    {
      "cell_type": "code",
      "source": [
        "!pip freeze > requirements.txt"
      ],
      "metadata": {
        "id": "TPDk9gsg6PII"
      },
      "execution_count": 5,
      "outputs": []
    },
    {
      "cell_type": "code",
      "source": [
        "import pandas as pd"
      ],
      "metadata": {
        "id": "f686zdA_6PAC"
      },
      "execution_count": 6,
      "outputs": []
    },
    {
      "cell_type": "code",
      "source": [
        "dados = {'Amostra A' : [1, 4, 2, 3], 'Amostra B':[2, 6, 10, 15], 'Amostra C':[4, 12, 20, 26]}\n",
        "indices = [1, 2, 3, 4]\n",
        "\n",
        "df = pd.DataFrame(data = dados, index = indices)"
      ],
      "metadata": {
        "id": "FD6IZTEz6O3Z"
      },
      "execution_count": 15,
      "outputs": []
    },
    {
      "cell_type": "code",
      "source": [
        "df"
      ],
      "metadata": {
        "id": "7wbFzVED6-_u"
      },
      "execution_count": null,
      "outputs": []
    },
    {
      "cell_type": "code",
      "source": [
        "df.plot.line(title = 'Titulo do Gráfico', ylabel = 'Label Y', xlabel = 'Label X')"
      ],
      "metadata": {
        "id": "5BAkqUcA6-6x"
      },
      "execution_count": null,
      "outputs": []
    },
    {
      "cell_type": "markdown",
      "source": [
        "Gráfico como barras com Pandas"
      ],
      "metadata": {
        "id": "lFPkk-D7MXzm"
      }
    },
    {
      "cell_type": "code",
      "source": [
        "import pandas as pd"
      ],
      "metadata": {
        "id": "bkhJKdve6-1E"
      },
      "execution_count": 17,
      "outputs": []
    },
    {
      "cell_type": "code",
      "source": [
        "dados = {'Frutas': ['Laranja', 'Morango', 'Pera', 'Jaca'], 'Quantidades': [60, 100, 85, 30]}\n",
        "\n",
        "df = pd.DataFrame(data = dados)"
      ],
      "metadata": {
        "id": "psU09GCdM3qL"
      },
      "execution_count": 22,
      "outputs": []
    },
    {
      "cell_type": "code",
      "source": [
        "df"
      ],
      "metadata": {
        "id": "wuSABWMHOCjl"
      },
      "execution_count": null,
      "outputs": []
    },
    {
      "cell_type": "code",
      "source": [
        "df.plot.bar(x = 'Frutas', y = 'Quantidades', rot = 0)"
      ],
      "metadata": {
        "id": "cEPm4QlrOJYC"
      },
      "execution_count": null,
      "outputs": []
    },
    {
      "cell_type": "markdown",
      "source": [
        "Histograma com Pandas"
      ],
      "metadata": {
        "id": "zOCl7h084Hz9"
      }
    },
    {
      "cell_type": "code",
      "source": [
        "import pandas as pd\n",
        "import numpy as np\n",
        "import matplotlib as plt"
      ],
      "metadata": {
        "id": "0JnxtlMy4Ipl"
      },
      "execution_count": 25,
      "outputs": []
    },
    {
      "cell_type": "code",
      "source": [
        "pesquisa = np.random.normal(170, 10, 250)\n",
        "\n",
        "df = pd.DataFrame(data = pesquisa)\n",
        "\n",
        "plot = df.plot.hist(bins = 8, linewidth = 0.5, edgecolor = '#ffffff', legend = False)\n",
        "\n",
        "plot.set_ylabel('')\n",
        "\n"
      ],
      "metadata": {
        "id": "8FHm6oJ04IhT"
      },
      "execution_count": null,
      "outputs": []
    },
    {
      "cell_type": "code",
      "source": [
        "df"
      ],
      "metadata": {
        "id": "ZuHDsNxq4IHM"
      },
      "execution_count": null,
      "outputs": []
    },
    {
      "cell_type": "markdown",
      "source": [
        "Gráfico de Pizza com Pandas"
      ],
      "metadata": {
        "id": "VVhkSUd78Bt_"
      }
    },
    {
      "cell_type": "code",
      "source": [
        "import pandas as pd\n",
        "import matplotlib as plt"
      ],
      "metadata": {
        "id": "C1w-brP34xXF"
      },
      "execution_count": 30,
      "outputs": []
    },
    {
      "cell_type": "code",
      "source": [
        "dados = {'Porcentagem':[15, 30, 45, 10]}\n",
        "indices = ['Laranja', 'Melancia', 'Manga', 'Jaca']\n",
        "\n",
        "df = pd.DataFrame(data = dados, index = indices)\n",
        "\n",
        "#df.plot.pie(subplots = True)# forma 1\n",
        "df.plot.pie(y = 'Porcentagem', legend = False, autopct = '%1.2f%%').set_ylabel('') #forma 2 set_ylabel tira a legenda"
      ],
      "metadata": {
        "id": "KnM8NPyx4yRs"
      },
      "execution_count": null,
      "outputs": []
    },
    {
      "cell_type": "code",
      "source": [
        "df"
      ],
      "metadata": {
        "id": "b5fkTcqy8yrA"
      },
      "execution_count": null,
      "outputs": []
    },
    {
      "cell_type": "markdown",
      "source": [
        "Salvando Imagens dos gráfico com Pandas"
      ],
      "metadata": {
        "id": "BlM5Ejg3DQ44"
      }
    },
    {
      "cell_type": "code",
      "source": [
        "import pandas as pd\n",
        "import matplotlib as plt\n",
        "\n",
        "dados = {'Porcentagem':[15, 30, 45, 10]}\n",
        "indices = ['Laranja', 'Melancia', 'Manga', 'Jaca']\n",
        "\n",
        "df = pd.DataFrame(data = dados, index = indices)\n",
        "\n",
        "#df.plot.pie(subplots = True)# forma 1\n",
        "plot = df.plot.pie(y = 'Porcentagem', legend = False, autopct = '%1.2f%%') #forma 2\n",
        "plot.set_ylabel('')\n",
        "\n",
        "plot.get_figure().savefig('meu_grafico.png')"
      ],
      "metadata": {
        "id": "nQnGECq7DRiq"
      },
      "execution_count": null,
      "outputs": []
    },
    {
      "cell_type": "code",
      "source": [
        "# Segundo exemplo"
      ],
      "metadata": {
        "id": "Ayir8YtzEdcQ"
      },
      "execution_count": null,
      "outputs": []
    },
    {
      "cell_type": "code",
      "source": [
        "import pandas as pd\n",
        "import matplotlib as plt\n",
        "\n",
        "dados = {'Porcentagem':[15, 30, 45, 10]}\n",
        "indices = ['Laranja', 'Melancia', 'Manga', 'Jaca']\n",
        "\n",
        "df = pd.DataFrame(data = dados, index = indices)\n",
        "\n",
        "#df.plot.pie(subplots = True)# forma 1\n",
        "plot = df.plot.pie(y = 'Porcentagem', legend = False, autopct = '%1.2f%%') #forma 2\n",
        "plot.set_ylabel('')\n",
        "\n",
        "plot.get_figure().savefig('meu_grafico2.png', transparent = True, dpi = 150, bbox_inches = 'tight')"
      ],
      "metadata": {
        "id": "BYpH2SsBDSCA"
      },
      "execution_count": null,
      "outputs": []
    }
  ]
}